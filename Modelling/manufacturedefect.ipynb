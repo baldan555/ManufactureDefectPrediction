{
 "cells": [
  {
   "cell_type": "markdown",
   "metadata": {},
   "source": [
    "This dataset provides insights into factors influencing defect rates in a manufacturing environment. Each record represents various metrics crucial for predicting high or low defect occurrences in production processe, you can visit https://www.kaggle.com/datasets/rabieelkharoua/predicting-manufacturing-defects-dataset/data"
   ]
  },
  {
   "cell_type": "code",
   "execution_count": 23,
   "metadata": {},
   "outputs": [],
   "source": [
    "import pandas as pd\n",
    "\n",
    "df = pd.read_csv('manufacture.csv')"
   ]
  },
  {
   "cell_type": "markdown",
   "metadata": {},
   "source": [
    "### Exploratory Data Analysis"
   ]
  },
  {
   "cell_type": "code",
   "execution_count": 24,
   "metadata": {},
   "outputs": [
    {
     "data": {
      "text/html": [
       "<div>\n",
       "<style scoped>\n",
       "    .dataframe tbody tr th:only-of-type {\n",
       "        vertical-align: middle;\n",
       "    }\n",
       "\n",
       "    .dataframe tbody tr th {\n",
       "        vertical-align: top;\n",
       "    }\n",
       "\n",
       "    .dataframe thead th {\n",
       "        text-align: right;\n",
       "    }\n",
       "</style>\n",
       "<table border=\"1\" class=\"dataframe\">\n",
       "  <thead>\n",
       "    <tr style=\"text-align: right;\">\n",
       "      <th></th>\n",
       "      <th>ProductionVolume</th>\n",
       "      <th>ProductionCost</th>\n",
       "      <th>SupplierQuality</th>\n",
       "      <th>DeliveryDelay</th>\n",
       "      <th>DefectRate</th>\n",
       "      <th>QualityScore</th>\n",
       "      <th>MaintenanceHours</th>\n",
       "      <th>DowntimePercentage</th>\n",
       "      <th>InventoryTurnover</th>\n",
       "      <th>StockoutRate</th>\n",
       "      <th>WorkerProductivity</th>\n",
       "      <th>SafetyIncidents</th>\n",
       "      <th>EnergyConsumption</th>\n",
       "      <th>EnergyEfficiency</th>\n",
       "      <th>AdditiveProcessTime</th>\n",
       "      <th>AdditiveMaterialCost</th>\n",
       "      <th>DefectStatus</th>\n",
       "    </tr>\n",
       "  </thead>\n",
       "  <tbody>\n",
       "    <tr>\n",
       "      <th>0</th>\n",
       "      <td>202</td>\n",
       "      <td>13175.403783</td>\n",
       "      <td>86.648534</td>\n",
       "      <td>1</td>\n",
       "      <td>3.121492</td>\n",
       "      <td>63.463494</td>\n",
       "      <td>9</td>\n",
       "      <td>0.052343</td>\n",
       "      <td>8.630515</td>\n",
       "      <td>0.081322</td>\n",
       "      <td>85.042379</td>\n",
       "      <td>0</td>\n",
       "      <td>2419.616785</td>\n",
       "      <td>0.468947</td>\n",
       "      <td>5.551639</td>\n",
       "      <td>236.439301</td>\n",
       "      <td>1</td>\n",
       "    </tr>\n",
       "    <tr>\n",
       "      <th>1</th>\n",
       "      <td>535</td>\n",
       "      <td>19770.046093</td>\n",
       "      <td>86.310664</td>\n",
       "      <td>4</td>\n",
       "      <td>0.819531</td>\n",
       "      <td>83.697818</td>\n",
       "      <td>20</td>\n",
       "      <td>4.908328</td>\n",
       "      <td>9.296598</td>\n",
       "      <td>0.038486</td>\n",
       "      <td>99.657443</td>\n",
       "      <td>7</td>\n",
       "      <td>3915.566713</td>\n",
       "      <td>0.119485</td>\n",
       "      <td>9.080754</td>\n",
       "      <td>353.957631</td>\n",
       "      <td>1</td>\n",
       "    </tr>\n",
       "    <tr>\n",
       "      <th>2</th>\n",
       "      <td>960</td>\n",
       "      <td>19060.820997</td>\n",
       "      <td>82.132472</td>\n",
       "      <td>0</td>\n",
       "      <td>4.514504</td>\n",
       "      <td>90.350550</td>\n",
       "      <td>1</td>\n",
       "      <td>2.464923</td>\n",
       "      <td>5.097486</td>\n",
       "      <td>0.002887</td>\n",
       "      <td>92.819264</td>\n",
       "      <td>2</td>\n",
       "      <td>3392.385362</td>\n",
       "      <td>0.496392</td>\n",
       "      <td>6.562827</td>\n",
       "      <td>396.189402</td>\n",
       "      <td>1</td>\n",
       "    </tr>\n",
       "    <tr>\n",
       "      <th>3</th>\n",
       "      <td>370</td>\n",
       "      <td>5647.606037</td>\n",
       "      <td>87.335966</td>\n",
       "      <td>5</td>\n",
       "      <td>0.638524</td>\n",
       "      <td>67.628690</td>\n",
       "      <td>8</td>\n",
       "      <td>4.692476</td>\n",
       "      <td>3.577616</td>\n",
       "      <td>0.055331</td>\n",
       "      <td>96.887013</td>\n",
       "      <td>8</td>\n",
       "      <td>4652.400275</td>\n",
       "      <td>0.183125</td>\n",
       "      <td>8.097496</td>\n",
       "      <td>164.135870</td>\n",
       "      <td>1</td>\n",
       "    </tr>\n",
       "    <tr>\n",
       "      <th>4</th>\n",
       "      <td>206</td>\n",
       "      <td>7472.222236</td>\n",
       "      <td>81.989893</td>\n",
       "      <td>3</td>\n",
       "      <td>3.867784</td>\n",
       "      <td>82.728334</td>\n",
       "      <td>9</td>\n",
       "      <td>2.746726</td>\n",
       "      <td>6.851709</td>\n",
       "      <td>0.068047</td>\n",
       "      <td>88.315554</td>\n",
       "      <td>7</td>\n",
       "      <td>1581.630332</td>\n",
       "      <td>0.263507</td>\n",
       "      <td>6.406154</td>\n",
       "      <td>365.708964</td>\n",
       "      <td>1</td>\n",
       "    </tr>\n",
       "  </tbody>\n",
       "</table>\n",
       "</div>"
      ],
      "text/plain": [
       "   ProductionVolume  ProductionCost  SupplierQuality  DeliveryDelay  \\\n",
       "0               202    13175.403783        86.648534              1   \n",
       "1               535    19770.046093        86.310664              4   \n",
       "2               960    19060.820997        82.132472              0   \n",
       "3               370     5647.606037        87.335966              5   \n",
       "4               206     7472.222236        81.989893              3   \n",
       "\n",
       "   DefectRate  QualityScore  MaintenanceHours  DowntimePercentage  \\\n",
       "0    3.121492     63.463494                 9            0.052343   \n",
       "1    0.819531     83.697818                20            4.908328   \n",
       "2    4.514504     90.350550                 1            2.464923   \n",
       "3    0.638524     67.628690                 8            4.692476   \n",
       "4    3.867784     82.728334                 9            2.746726   \n",
       "\n",
       "   InventoryTurnover  StockoutRate  WorkerProductivity  SafetyIncidents  \\\n",
       "0           8.630515      0.081322           85.042379                0   \n",
       "1           9.296598      0.038486           99.657443                7   \n",
       "2           5.097486      0.002887           92.819264                2   \n",
       "3           3.577616      0.055331           96.887013                8   \n",
       "4           6.851709      0.068047           88.315554                7   \n",
       "\n",
       "   EnergyConsumption  EnergyEfficiency  AdditiveProcessTime  \\\n",
       "0        2419.616785          0.468947             5.551639   \n",
       "1        3915.566713          0.119485             9.080754   \n",
       "2        3392.385362          0.496392             6.562827   \n",
       "3        4652.400275          0.183125             8.097496   \n",
       "4        1581.630332          0.263507             6.406154   \n",
       "\n",
       "   AdditiveMaterialCost  DefectStatus  \n",
       "0            236.439301             1  \n",
       "1            353.957631             1  \n",
       "2            396.189402             1  \n",
       "3            164.135870             1  \n",
       "4            365.708964             1  "
      ]
     },
     "execution_count": 24,
     "metadata": {},
     "output_type": "execute_result"
    }
   ],
   "source": [
    "df.head(5)"
   ]
  },
  {
   "cell_type": "markdown",
   "metadata": {},
   "source": [
    "#### Variables Description\n",
    "\n",
    "##### 1. Production Metrics\n",
    "- **ProductionVolume**: Number of units produced per day.\n",
    "  - Data Type: Integer\n",
    "  - Range: 100 to 1000 units/day\n",
    "\n",
    "- **ProductionCost**: Cost incurred for production per day.\n",
    "  - Data Type: Float\n",
    "  - Range: $5000 to $20000\n",
    "\n",
    "##### 2. Supply Chain and Logistics\n",
    "- **SupplierQuality**: Quality ratings of suppliers.\n",
    "  - Data Type: Float (%)\n",
    "  - Range: 80% to 100%\n",
    "\n",
    "- **DeliveryDelay**: Average delay in delivery.\n",
    "  - Data Type: Integer (days)\n",
    "  - Range: 0 to 5 days\n",
    "\n",
    "##### 3. Quality Control and Defect Rates\n",
    "- **DefectRate**: Defects per thousand units produced.\n",
    "  - Data Type: Float\n",
    "  - Range: 0.5 to 5.0 defects\n",
    "\n",
    "- **QualityScore**: Overall quality assessment.\n",
    "  - Data Type: Float (%)\n",
    "  - Range: 60% to 100%\n",
    "\n",
    "##### 4. Maintenance and Downtime\n",
    "- **MaintenanceHours**: Hours spent on maintenance per week.\n",
    "  - Data Type: Integer\n",
    "  - Range: 0 to 24 hours\n",
    "\n",
    "- **DowntimePercentage**: Percentage of production downtime.\n",
    "  - Data Type: Float (%)\n",
    "  - Range: 0% to 5%\n",
    "\n",
    "##### 5. Inventory Management\n",
    "- **InventoryTurnover**: Ratio of inventory turnover.\n",
    "  - Data Type: Float\n",
    "  - Range: 2 to 10\n",
    "\n",
    "- **StockoutRate**: Rate of inventory stockouts.\n",
    "  - Data Type: Float (%)\n",
    "  - Range: 0% to 10%\n",
    "\n",
    "##### 6. Workforce Productivity and Safety\n",
    "- **WorkerProductivity**: Productivity level of the workforce.\n",
    "  - Data Type: Float (%)\n",
    "  - Range: 80% to 100%\n",
    "\n",
    "- **SafetyIncidents**: Number of safety incidents per month.\n",
    "  - Data Type: Integer\n",
    "  - Range: 0 to 10 incidents\n",
    "\n",
    "##### 7. Energy Consumption and Efficiency\n",
    "- **EnergyConsumption**: Energy consumed in kWh.\n",
    "  - Data Type: Float\n",
    "  - Range: 1000 to 5000 kWh\n",
    "\n",
    "- **EnergyEfficiency**: Efficiency factor of energy usage.\n",
    "  - Data Type: Float\n",
    "  - Range: 0.1 to 0.5\n",
    "\n",
    "##### 8. Additive Manufacturing\n",
    "- **AdditiveProcessTime**: Time taken for additive manufacturing.\n",
    "  - Data Type: Float (hours)\n",
    "  - Range: 1 to 10 hours\n",
    "\n",
    "- **AdditiveMaterialCost**: Cost of additive materials per unit.\n",
    "  - Data Type: Float ($)\n",
    "  - Range: $100 to $500\n",
    "\n",
    "##### 9. Target Variable\n",
    "- **DefectStatus**: Predicted defect status.\n",
    "  - Data Type: Binary (0 for Low Defects, 1 for High Defects)\n"
   ]
  },
  {
   "cell_type": "code",
   "execution_count": 25,
   "metadata": {},
   "outputs": [],
   "source": [
    "# Menambahkan kolom satuan\n",
    "df['ProductionVolume (units/day)'] = df['ProductionVolume']\n",
    "df['ProductionCost ($/day)'] = df['ProductionCost']\n",
    "df['SupplierQuality (%)'] = df['SupplierQuality']\n",
    "df['DeliveryDelay (days)'] = df['DeliveryDelay']\n",
    "df['DefectRate (defects/1000 units)'] = df['DefectRate']\n",
    "df['QualityScore (%)'] = df['QualityScore']\n",
    "df['MaintenanceHours (hours/week)'] = df['MaintenanceHours']\n",
    "df['DowntimePercentage (%)'] = df['DowntimePercentage']\n",
    "df['InventoryTurnover (ratio)'] = df['InventoryTurnover']\n",
    "df['StockoutRate (%)'] = df['StockoutRate']\n",
    "df['WorkerProductivity (%)'] = df['WorkerProductivity']\n",
    "df['SafetyIncidents (incidents/month)'] = df['SafetyIncidents']\n",
    "df['EnergyConsumption (kWh)'] = df['EnergyConsumption']\n",
    "df['EnergyEfficiency (ratio)'] = df['EnergyEfficiency']\n",
    "df['AdditiveProcessTime (hours)'] = df['AdditiveProcessTime']\n",
    "df['AdditiveMaterialCost ($/unit)'] = df['AdditiveMaterialCost']\n",
    "df['DefectStatus'] = df['DefectStatus']\n",
    "\n",
    "# Menghapus kolom asli jika tidak diperlukan lagi\n",
    "df.drop(columns=['ProductionVolume', 'ProductionCost', 'SupplierQuality', 'DeliveryDelay', 'DefectRate', \n",
    "                 'QualityScore', 'MaintenanceHours', 'DowntimePercentage', 'InventoryTurnover', 'StockoutRate',\n",
    "                 'WorkerProductivity', 'SafetyIncidents', 'EnergyConsumption', 'EnergyEfficiency',\n",
    "                 'AdditiveProcessTime', 'AdditiveMaterialCost'], inplace=True)"
   ]
  },
  {
   "cell_type": "code",
   "execution_count": 26,
   "metadata": {},
   "outputs": [
    {
     "data": {
      "text/html": [
       "<div>\n",
       "<style scoped>\n",
       "    .dataframe tbody tr th:only-of-type {\n",
       "        vertical-align: middle;\n",
       "    }\n",
       "\n",
       "    .dataframe tbody tr th {\n",
       "        vertical-align: top;\n",
       "    }\n",
       "\n",
       "    .dataframe thead th {\n",
       "        text-align: right;\n",
       "    }\n",
       "</style>\n",
       "<table border=\"1\" class=\"dataframe\">\n",
       "  <thead>\n",
       "    <tr style=\"text-align: right;\">\n",
       "      <th></th>\n",
       "      <th>DefectStatus</th>\n",
       "      <th>ProductionVolume (units/day)</th>\n",
       "      <th>ProductionCost ($/day)</th>\n",
       "      <th>SupplierQuality (%)</th>\n",
       "      <th>DeliveryDelay (days)</th>\n",
       "      <th>DefectRate (defects/1000 units)</th>\n",
       "      <th>QualityScore (%)</th>\n",
       "      <th>MaintenanceHours (hours/week)</th>\n",
       "      <th>DowntimePercentage (%)</th>\n",
       "      <th>InventoryTurnover (ratio)</th>\n",
       "      <th>StockoutRate (%)</th>\n",
       "      <th>WorkerProductivity (%)</th>\n",
       "      <th>SafetyIncidents (incidents/month)</th>\n",
       "      <th>EnergyConsumption (kWh)</th>\n",
       "      <th>EnergyEfficiency (ratio)</th>\n",
       "      <th>AdditiveProcessTime (hours)</th>\n",
       "      <th>AdditiveMaterialCost ($/unit)</th>\n",
       "    </tr>\n",
       "  </thead>\n",
       "  <tbody>\n",
       "    <tr>\n",
       "      <th>0</th>\n",
       "      <td>1</td>\n",
       "      <td>202</td>\n",
       "      <td>13175.403783</td>\n",
       "      <td>86.648534</td>\n",
       "      <td>1</td>\n",
       "      <td>3.121492</td>\n",
       "      <td>63.463494</td>\n",
       "      <td>9</td>\n",
       "      <td>0.052343</td>\n",
       "      <td>8.630515</td>\n",
       "      <td>0.081322</td>\n",
       "      <td>85.042379</td>\n",
       "      <td>0</td>\n",
       "      <td>2419.616785</td>\n",
       "      <td>0.468947</td>\n",
       "      <td>5.551639</td>\n",
       "      <td>236.439301</td>\n",
       "    </tr>\n",
       "    <tr>\n",
       "      <th>1</th>\n",
       "      <td>1</td>\n",
       "      <td>535</td>\n",
       "      <td>19770.046093</td>\n",
       "      <td>86.310664</td>\n",
       "      <td>4</td>\n",
       "      <td>0.819531</td>\n",
       "      <td>83.697818</td>\n",
       "      <td>20</td>\n",
       "      <td>4.908328</td>\n",
       "      <td>9.296598</td>\n",
       "      <td>0.038486</td>\n",
       "      <td>99.657443</td>\n",
       "      <td>7</td>\n",
       "      <td>3915.566713</td>\n",
       "      <td>0.119485</td>\n",
       "      <td>9.080754</td>\n",
       "      <td>353.957631</td>\n",
       "    </tr>\n",
       "    <tr>\n",
       "      <th>2</th>\n",
       "      <td>1</td>\n",
       "      <td>960</td>\n",
       "      <td>19060.820997</td>\n",
       "      <td>82.132472</td>\n",
       "      <td>0</td>\n",
       "      <td>4.514504</td>\n",
       "      <td>90.350550</td>\n",
       "      <td>1</td>\n",
       "      <td>2.464923</td>\n",
       "      <td>5.097486</td>\n",
       "      <td>0.002887</td>\n",
       "      <td>92.819264</td>\n",
       "      <td>2</td>\n",
       "      <td>3392.385362</td>\n",
       "      <td>0.496392</td>\n",
       "      <td>6.562827</td>\n",
       "      <td>396.189402</td>\n",
       "    </tr>\n",
       "    <tr>\n",
       "      <th>3</th>\n",
       "      <td>1</td>\n",
       "      <td>370</td>\n",
       "      <td>5647.606037</td>\n",
       "      <td>87.335966</td>\n",
       "      <td>5</td>\n",
       "      <td>0.638524</td>\n",
       "      <td>67.628690</td>\n",
       "      <td>8</td>\n",
       "      <td>4.692476</td>\n",
       "      <td>3.577616</td>\n",
       "      <td>0.055331</td>\n",
       "      <td>96.887013</td>\n",
       "      <td>8</td>\n",
       "      <td>4652.400275</td>\n",
       "      <td>0.183125</td>\n",
       "      <td>8.097496</td>\n",
       "      <td>164.135870</td>\n",
       "    </tr>\n",
       "    <tr>\n",
       "      <th>4</th>\n",
       "      <td>1</td>\n",
       "      <td>206</td>\n",
       "      <td>7472.222236</td>\n",
       "      <td>81.989893</td>\n",
       "      <td>3</td>\n",
       "      <td>3.867784</td>\n",
       "      <td>82.728334</td>\n",
       "      <td>9</td>\n",
       "      <td>2.746726</td>\n",
       "      <td>6.851709</td>\n",
       "      <td>0.068047</td>\n",
       "      <td>88.315554</td>\n",
       "      <td>7</td>\n",
       "      <td>1581.630332</td>\n",
       "      <td>0.263507</td>\n",
       "      <td>6.406154</td>\n",
       "      <td>365.708964</td>\n",
       "    </tr>\n",
       "    <tr>\n",
       "      <th>...</th>\n",
       "      <td>...</td>\n",
       "      <td>...</td>\n",
       "      <td>...</td>\n",
       "      <td>...</td>\n",
       "      <td>...</td>\n",
       "      <td>...</td>\n",
       "      <td>...</td>\n",
       "      <td>...</td>\n",
       "      <td>...</td>\n",
       "      <td>...</td>\n",
       "      <td>...</td>\n",
       "      <td>...</td>\n",
       "      <td>...</td>\n",
       "      <td>...</td>\n",
       "      <td>...</td>\n",
       "      <td>...</td>\n",
       "      <td>...</td>\n",
       "    </tr>\n",
       "    <tr>\n",
       "      <th>3235</th>\n",
       "      <td>0</td>\n",
       "      <td>762</td>\n",
       "      <td>11325.689263</td>\n",
       "      <td>89.252385</td>\n",
       "      <td>2</td>\n",
       "      <td>2.667570</td>\n",
       "      <td>87.141681</td>\n",
       "      <td>16</td>\n",
       "      <td>0.987719</td>\n",
       "      <td>3.574419</td>\n",
       "      <td>0.065727</td>\n",
       "      <td>95.917264</td>\n",
       "      <td>3</td>\n",
       "      <td>3288.043242</td>\n",
       "      <td>0.420186</td>\n",
       "      <td>4.733399</td>\n",
       "      <td>299.829577</td>\n",
       "    </tr>\n",
       "    <tr>\n",
       "      <th>3236</th>\n",
       "      <td>0</td>\n",
       "      <td>335</td>\n",
       "      <td>5598.837988</td>\n",
       "      <td>95.701437</td>\n",
       "      <td>4</td>\n",
       "      <td>0.751272</td>\n",
       "      <td>95.562997</td>\n",
       "      <td>11</td>\n",
       "      <td>0.178163</td>\n",
       "      <td>8.295295</td>\n",
       "      <td>0.097698</td>\n",
       "      <td>87.780846</td>\n",
       "      <td>8</td>\n",
       "      <td>2761.301593</td>\n",
       "      <td>0.126441</td>\n",
       "      <td>7.234421</td>\n",
       "      <td>245.524560</td>\n",
       "    </tr>\n",
       "    <tr>\n",
       "      <th>3237</th>\n",
       "      <td>1</td>\n",
       "      <td>835</td>\n",
       "      <td>11736.177712</td>\n",
       "      <td>96.431554</td>\n",
       "      <td>5</td>\n",
       "      <td>4.899756</td>\n",
       "      <td>77.973442</td>\n",
       "      <td>0</td>\n",
       "      <td>4.873429</td>\n",
       "      <td>3.844824</td>\n",
       "      <td>0.005724</td>\n",
       "      <td>81.590143</td>\n",
       "      <td>5</td>\n",
       "      <td>2000.621648</td>\n",
       "      <td>0.325530</td>\n",
       "      <td>5.436538</td>\n",
       "      <td>206.490010</td>\n",
       "    </tr>\n",
       "    <tr>\n",
       "      <th>3238</th>\n",
       "      <td>0</td>\n",
       "      <td>302</td>\n",
       "      <td>13664.196210</td>\n",
       "      <td>91.089782</td>\n",
       "      <td>1</td>\n",
       "      <td>4.057665</td>\n",
       "      <td>95.755591</td>\n",
       "      <td>6</td>\n",
       "      <td>0.071663</td>\n",
       "      <td>2.783298</td>\n",
       "      <td>0.042612</td>\n",
       "      <td>88.488525</td>\n",
       "      <td>6</td>\n",
       "      <td>1534.792169</td>\n",
       "      <td>0.222736</td>\n",
       "      <td>3.776924</td>\n",
       "      <td>203.771655</td>\n",
       "    </tr>\n",
       "    <tr>\n",
       "      <th>3239</th>\n",
       "      <td>0</td>\n",
       "      <td>355</td>\n",
       "      <td>13563.605806</td>\n",
       "      <td>83.595956</td>\n",
       "      <td>2</td>\n",
       "      <td>2.705502</td>\n",
       "      <td>94.630965</td>\n",
       "      <td>13</td>\n",
       "      <td>4.803394</td>\n",
       "      <td>5.830580</td>\n",
       "      <td>0.052978</td>\n",
       "      <td>86.010046</td>\n",
       "      <td>4</td>\n",
       "      <td>2610.526736</td>\n",
       "      <td>0.206099</td>\n",
       "      <td>2.312373</td>\n",
       "      <td>324.825754</td>\n",
       "    </tr>\n",
       "  </tbody>\n",
       "</table>\n",
       "<p>3240 rows × 17 columns</p>\n",
       "</div>"
      ],
      "text/plain": [
       "      DefectStatus  ProductionVolume (units/day)  ProductionCost ($/day)  \\\n",
       "0                1                           202            13175.403783   \n",
       "1                1                           535            19770.046093   \n",
       "2                1                           960            19060.820997   \n",
       "3                1                           370             5647.606037   \n",
       "4                1                           206             7472.222236   \n",
       "...            ...                           ...                     ...   \n",
       "3235             0                           762            11325.689263   \n",
       "3236             0                           335             5598.837988   \n",
       "3237             1                           835            11736.177712   \n",
       "3238             0                           302            13664.196210   \n",
       "3239             0                           355            13563.605806   \n",
       "\n",
       "      SupplierQuality (%)  DeliveryDelay (days)  \\\n",
       "0               86.648534                     1   \n",
       "1               86.310664                     4   \n",
       "2               82.132472                     0   \n",
       "3               87.335966                     5   \n",
       "4               81.989893                     3   \n",
       "...                   ...                   ...   \n",
       "3235            89.252385                     2   \n",
       "3236            95.701437                     4   \n",
       "3237            96.431554                     5   \n",
       "3238            91.089782                     1   \n",
       "3239            83.595956                     2   \n",
       "\n",
       "      DefectRate (defects/1000 units)  QualityScore (%)  \\\n",
       "0                            3.121492         63.463494   \n",
       "1                            0.819531         83.697818   \n",
       "2                            4.514504         90.350550   \n",
       "3                            0.638524         67.628690   \n",
       "4                            3.867784         82.728334   \n",
       "...                               ...               ...   \n",
       "3235                         2.667570         87.141681   \n",
       "3236                         0.751272         95.562997   \n",
       "3237                         4.899756         77.973442   \n",
       "3238                         4.057665         95.755591   \n",
       "3239                         2.705502         94.630965   \n",
       "\n",
       "      MaintenanceHours (hours/week)  DowntimePercentage (%)  \\\n",
       "0                                 9                0.052343   \n",
       "1                                20                4.908328   \n",
       "2                                 1                2.464923   \n",
       "3                                 8                4.692476   \n",
       "4                                 9                2.746726   \n",
       "...                             ...                     ...   \n",
       "3235                             16                0.987719   \n",
       "3236                             11                0.178163   \n",
       "3237                              0                4.873429   \n",
       "3238                              6                0.071663   \n",
       "3239                             13                4.803394   \n",
       "\n",
       "      InventoryTurnover (ratio)  StockoutRate (%)  WorkerProductivity (%)  \\\n",
       "0                      8.630515          0.081322               85.042379   \n",
       "1                      9.296598          0.038486               99.657443   \n",
       "2                      5.097486          0.002887               92.819264   \n",
       "3                      3.577616          0.055331               96.887013   \n",
       "4                      6.851709          0.068047               88.315554   \n",
       "...                         ...               ...                     ...   \n",
       "3235                   3.574419          0.065727               95.917264   \n",
       "3236                   8.295295          0.097698               87.780846   \n",
       "3237                   3.844824          0.005724               81.590143   \n",
       "3238                   2.783298          0.042612               88.488525   \n",
       "3239                   5.830580          0.052978               86.010046   \n",
       "\n",
       "      SafetyIncidents (incidents/month)  EnergyConsumption (kWh)  \\\n",
       "0                                     0              2419.616785   \n",
       "1                                     7              3915.566713   \n",
       "2                                     2              3392.385362   \n",
       "3                                     8              4652.400275   \n",
       "4                                     7              1581.630332   \n",
       "...                                 ...                      ...   \n",
       "3235                                  3              3288.043242   \n",
       "3236                                  8              2761.301593   \n",
       "3237                                  5              2000.621648   \n",
       "3238                                  6              1534.792169   \n",
       "3239                                  4              2610.526736   \n",
       "\n",
       "      EnergyEfficiency (ratio)  AdditiveProcessTime (hours)  \\\n",
       "0                     0.468947                     5.551639   \n",
       "1                     0.119485                     9.080754   \n",
       "2                     0.496392                     6.562827   \n",
       "3                     0.183125                     8.097496   \n",
       "4                     0.263507                     6.406154   \n",
       "...                        ...                          ...   \n",
       "3235                  0.420186                     4.733399   \n",
       "3236                  0.126441                     7.234421   \n",
       "3237                  0.325530                     5.436538   \n",
       "3238                  0.222736                     3.776924   \n",
       "3239                  0.206099                     2.312373   \n",
       "\n",
       "      AdditiveMaterialCost ($/unit)  \n",
       "0                        236.439301  \n",
       "1                        353.957631  \n",
       "2                        396.189402  \n",
       "3                        164.135870  \n",
       "4                        365.708964  \n",
       "...                             ...  \n",
       "3235                     299.829577  \n",
       "3236                     245.524560  \n",
       "3237                     206.490010  \n",
       "3238                     203.771655  \n",
       "3239                     324.825754  \n",
       "\n",
       "[3240 rows x 17 columns]"
      ]
     },
     "execution_count": 26,
     "metadata": {},
     "output_type": "execute_result"
    }
   ],
   "source": [
    "df"
   ]
  },
  {
   "cell_type": "code",
   "execution_count": 27,
   "metadata": {},
   "outputs": [
    {
     "data": {
      "text/plain": [
       "(3240, 17)"
      ]
     },
     "execution_count": 27,
     "metadata": {},
     "output_type": "execute_result"
    }
   ],
   "source": [
    "df.shape"
   ]
  },
  {
   "cell_type": "code",
   "execution_count": 28,
   "metadata": {},
   "outputs": [
    {
     "data": {
      "text/plain": [
       "DefectStatus                         0\n",
       "ProductionVolume (units/day)         0\n",
       "ProductionCost ($/day)               0\n",
       "SupplierQuality (%)                  0\n",
       "DeliveryDelay (days)                 0\n",
       "DefectRate (defects/1000 units)      0\n",
       "QualityScore (%)                     0\n",
       "MaintenanceHours (hours/week)        0\n",
       "DowntimePercentage (%)               0\n",
       "InventoryTurnover (ratio)            0\n",
       "StockoutRate (%)                     0\n",
       "WorkerProductivity (%)               0\n",
       "SafetyIncidents (incidents/month)    0\n",
       "EnergyConsumption (kWh)              0\n",
       "EnergyEfficiency (ratio)             0\n",
       "AdditiveProcessTime (hours)          0\n",
       "AdditiveMaterialCost ($/unit)        0\n",
       "dtype: int64"
      ]
     },
     "execution_count": 28,
     "metadata": {},
     "output_type": "execute_result"
    }
   ],
   "source": [
    "df.isnull().sum()"
   ]
  },
  {
   "cell_type": "code",
   "execution_count": 29,
   "metadata": {},
   "outputs": [
    {
     "data": {
      "text/plain": [
       "0"
      ]
     },
     "execution_count": 29,
     "metadata": {},
     "output_type": "execute_result"
    }
   ],
   "source": [
    "df.duplicated().sum()"
   ]
  },
  {
   "cell_type": "code",
   "execution_count": 30,
   "metadata": {},
   "outputs": [
    {
     "data": {
      "text/plain": [
       "Index(['DefectStatus', 'ProductionVolume (units/day)',\n",
       "       'ProductionCost ($/day)', 'SupplierQuality (%)', 'DeliveryDelay (days)',\n",
       "       'DefectRate (defects/1000 units)', 'QualityScore (%)',\n",
       "       'MaintenanceHours (hours/week)', 'DowntimePercentage (%)',\n",
       "       'InventoryTurnover (ratio)', 'StockoutRate (%)',\n",
       "       'WorkerProductivity (%)', 'SafetyIncidents (incidents/month)',\n",
       "       'EnergyConsumption (kWh)', 'EnergyEfficiency (ratio)',\n",
       "       'AdditiveProcessTime (hours)', 'AdditiveMaterialCost ($/unit)'],\n",
       "      dtype='object')"
      ]
     },
     "execution_count": 30,
     "metadata": {},
     "output_type": "execute_result"
    }
   ],
   "source": [
    "df.columns"
   ]
  },
  {
   "cell_type": "code",
   "execution_count": 31,
   "metadata": {},
   "outputs": [
    {
     "data": {
      "text/plain": [
       "DefectStatus                           int64\n",
       "ProductionVolume (units/day)           int64\n",
       "ProductionCost ($/day)               float64\n",
       "SupplierQuality (%)                  float64\n",
       "DeliveryDelay (days)                   int64\n",
       "DefectRate (defects/1000 units)      float64\n",
       "QualityScore (%)                     float64\n",
       "MaintenanceHours (hours/week)          int64\n",
       "DowntimePercentage (%)               float64\n",
       "InventoryTurnover (ratio)            float64\n",
       "StockoutRate (%)                     float64\n",
       "WorkerProductivity (%)               float64\n",
       "SafetyIncidents (incidents/month)      int64\n",
       "EnergyConsumption (kWh)              float64\n",
       "EnergyEfficiency (ratio)             float64\n",
       "AdditiveProcessTime (hours)          float64\n",
       "AdditiveMaterialCost ($/unit)        float64\n",
       "dtype: object"
      ]
     },
     "execution_count": 31,
     "metadata": {},
     "output_type": "execute_result"
    }
   ],
   "source": [
    "df.dtypes"
   ]
  },
  {
   "cell_type": "code",
   "execution_count": 32,
   "metadata": {},
   "outputs": [
    {
     "data": {
      "application/vnd.plotly.v1+json": {
       "config": {
        "plotlyServerURL": "https://plot.ly"
       },
       "data": [
        {
         "colorbar": {
          "title": {
           "text": "Correlation Coefficient"
          }
         },
         "colorscale": [
          [
           0,
           "#440154"
          ],
          [
           0.1111111111111111,
           "#482878"
          ],
          [
           0.2222222222222222,
           "#3e4989"
          ],
          [
           0.3333333333333333,
           "#31688e"
          ],
          [
           0.4444444444444444,
           "#26828e"
          ],
          [
           0.5555555555555556,
           "#1f9e89"
          ],
          [
           0.6666666666666666,
           "#35b779"
          ],
          [
           0.7777777777777778,
           "#6ece58"
          ],
          [
           0.8888888888888888,
           "#b5de2b"
          ],
          [
           1,
           "#fde725"
          ]
         ],
         "text": [
          [
           1,
           0.12897325211169305,
           0.026720440794394857,
           0.03818394916539817,
           0.005424640206577176,
           0.24574564599275256,
           -0.1992187311685954,
           0.29710678547488023,
           0.004128339856313495,
           0.006733112291045277,
           0.04057392370859189,
           -0.005224437399658046,
           -0.016038718923175144,
           0.005038920541792603,
           -0.03503076188134949,
           0.0056189314891216795,
           -0.0009525480271981962
          ],
          [
           0.12897325211169305,
           1,
           0.0295839652701133,
           -0.02655870411321218,
           0.01619300208664175,
           -0.019359969862065382,
           0.01782616516434049,
           -0.0045537883053447924,
           0.0199049171686631,
           0.006946721174349937,
           -0.0026372266752093185,
           0.004753612069922312,
           -0.024194839038429602,
           -0.010212789545181419,
           0.009923399954277047,
           -0.04239337371232184,
           -0.0029801305853748095
          ],
          [
           0.026720440794394857,
           0.0295839652701133,
           1,
           -0.02410341935933537,
           0.01736470138132251,
           0.01442831128475883,
           -0.0016026927839391067,
           0.007332534253142701,
           -0.0040784199141430605,
           0.022748643377162613,
           0.00600573480608397,
           0.005030168584550393,
           -0.006958027615619396,
           -0.0067277350179358025,
           -0.0027783280663812374,
           0.011075073983504291,
           -0.002114459562963776
          ],
          [
           0.03818394916539817,
           -0.02655870411321218,
           -0.02410341935933537,
           1,
           0.014233410851404804,
           0.012157099323774977,
           -0.029329554964489683,
           -0.01962564030142694,
           0.006297650520765415,
           0.018228091630378595,
           -0.0013926991684102704,
           -0.01738914362123544,
           0.004552261136937731,
           -0.003581586319901835,
           -0.01161359979379791,
           -0.012506589930948686,
           -0.0024299414619521694
          ],
          [
           0.005424640206577176,
           0.01619300208664175,
           0.01736470138132251,
           0.014233410851404804,
           1,
           -0.023023837677811583,
           0.017267614211751225,
           0.01814430096673997,
           0.046246649841646635,
           0.006685375516703528,
           -0.0027667606292879955,
           -0.01386850635668514,
           0.0060298164991871,
           0.007233154492060055,
           0.029467559837045205,
           0.028084665371657574,
           -0.007600669987884794
          ],
          [
           0.24574564599275256,
           -0.019359969862065382,
           0.01442831128475883,
           0.012157099323774977,
           -0.023023837677811583,
           1,
           -0.0363496050154533,
           -0.008686767456269097,
           -0.011207799225928858,
           -0.014147667345933035,
           0.007547135143346288,
           -0.00038755805369614994,
           0.012196208257796637,
           0.005297435225065022,
           -0.014168291882746169,
           -0.02842590441135356,
           0.011595658133714711
          ],
          [
           -0.1992187311685954,
           0.01782616516434049,
           -0.0016026927839391067,
           -0.029329554964489683,
           0.017267614211751225,
           -0.0363496050154533,
           1,
           -0.013365777305916031,
           -0.0005048629317422686,
           -0.0006177455805821178,
           -0.035048987302817004,
           0.004591162566047051,
           0.0012929018188209348,
           -0.0016938093062899152,
           -0.004146941253040783,
           0.009986003818456005,
           -0.02122258098595338
          ],
          [
           0.29710678547488023,
           -0.0045537883053447924,
           0.007332534253142701,
           -0.01962564030142694,
           0.01814430096673997,
           -0.008686767456269097,
           -0.013365777305916031,
           1,
           -0.020493817327743854,
           0.012757947205544792,
           0.019251282507740358,
           0.009621661547013903,
           0.009173761187097448,
           0.007016526891709394,
           -0.026486412413467133,
           -0.0018197380100783659,
           -0.000844540089571703
          ],
          [
           0.004128339856313495,
           0.0199049171686631,
           -0.0040784199141430605,
           0.006297650520765415,
           0.046246649841646635,
           -0.011207799225928858,
           -0.0005048629317422686,
           -0.020493817327743854,
           1,
           0.010176263361834753,
           0.0015779334225538618,
           -0.037814039648768914,
           0.0036731800590721763,
           0.003447297242498299,
           0.012884688869765758,
           -0.008030941313705988,
           0.002354587523792279
          ],
          [
           0.006733112291045277,
           0.006946721174349937,
           0.022748643377162613,
           0.018228091630378595,
           0.006685375516703528,
           -0.014147667345933035,
           -0.0006177455805821178,
           0.012757947205544792,
           0.010176263361834753,
           1,
           0.026002082255140037,
           0.0014686002416461916,
           -0.017555306065509306,
           0.026335930059368202,
           0.025029190731792442,
           0.019967432155694863,
           0.0001761488655359062
          ],
          [
           0.04057392370859189,
           -0.0026372266752093185,
           0.00600573480608397,
           -0.0013926991684102704,
           -0.0027667606292879955,
           0.007547135143346288,
           -0.035048987302817004,
           0.019251282507740358,
           0.0015779334225538618,
           0.026002082255140037,
           1,
           -0.03503414859511843,
           0.03172411224824932,
           -0.0006900498039160115,
           0.02585180734830786,
           0.0008703786648486902,
           -0.020563046779287174
          ],
          [
           -0.005224437399658046,
           0.004753612069922312,
           0.005030168584550393,
           -0.01738914362123544,
           -0.01386850635668514,
           -0.00038755805369614994,
           0.004591162566047051,
           0.009621661547013903,
           -0.037814039648768914,
           0.0014686002416461916,
           -0.03503414859511843,
           1,
           -0.0007665533515621317,
           0.014571443118048368,
           -0.020734075661626734,
           -0.009681542866320099,
           -0.01626937263555354
          ],
          [
           -0.016038718923175144,
           -0.024194839038429602,
           -0.006958027615619396,
           0.004552261136937731,
           0.0060298164991871,
           0.012196208257796637,
           0.0012929018188209348,
           0.009173761187097448,
           0.0036731800590721763,
           -0.017555306065509306,
           0.03172411224824932,
           -0.0007665533515621317,
           1,
           0.03532564648777642,
           -0.012416821319574535,
           0.01770975082524711,
           -0.014899369522435436
          ],
          [
           0.005038920541792603,
           -0.010212789545181419,
           -0.0067277350179358025,
           -0.003581586319901835,
           0.007233154492060055,
           0.005297435225065022,
           -0.0016938093062899152,
           0.007016526891709394,
           0.003447297242498299,
           0.026335930059368202,
           -0.0006900498039160115,
           0.014571443118048368,
           0.03532564648777642,
           1,
           -0.027379799465536717,
           -0.004861361740932531,
           0.024656609342564733
          ],
          [
           -0.03503076188134949,
           0.009923399954277047,
           -0.0027783280663812374,
           -0.01161359979379791,
           0.029467559837045205,
           -0.014168291882746169,
           -0.004146941253040783,
           -0.026486412413467133,
           0.012884688869765758,
           0.025029190731792442,
           0.02585180734830786,
           -0.020734075661626734,
           -0.012416821319574535,
           -0.027379799465536717,
           1,
           -0.018838819100255325,
           0.006232463816624839
          ],
          [
           0.0056189314891216795,
           -0.04239337371232184,
           0.011075073983504291,
           -0.012506589930948686,
           0.028084665371657574,
           -0.02842590441135356,
           0.009986003818456005,
           -0.0018197380100783659,
           -0.008030941313705988,
           0.019967432155694863,
           0.0008703786648486902,
           -0.009681542866320099,
           0.01770975082524711,
           -0.004861361740932531,
           -0.018838819100255325,
           1,
           0.012948447901461557
          ],
          [
           -0.0009525480271981962,
           -0.0029801305853748095,
           -0.002114459562963776,
           -0.0024299414619521694,
           -0.007600669987884794,
           0.011595658133714711,
           -0.02122258098595338,
           -0.000844540089571703,
           0.002354587523792279,
           0.0001761488655359062,
           -0.020563046779287174,
           -0.01626937263555354,
           -0.014899369522435436,
           0.024656609342564733,
           0.006232463816624839,
           0.012948447901461557,
           1
          ]
         ],
         "textfont": {
          "color": "white",
          "size": 10
         },
         "texttemplate": "%{text:.2f}",
         "type": "heatmap",
         "x": [
          "DefectStatus",
          "ProductionVolume (units/day)",
          "ProductionCost ($/day)",
          "SupplierQuality (%)",
          "DeliveryDelay (days)",
          "DefectRate (defects/1000 units)",
          "QualityScore (%)",
          "MaintenanceHours (hours/week)",
          "DowntimePercentage (%)",
          "InventoryTurnover (ratio)",
          "StockoutRate (%)",
          "WorkerProductivity (%)",
          "SafetyIncidents (incidents/month)",
          "EnergyConsumption (kWh)",
          "EnergyEfficiency (ratio)",
          "AdditiveProcessTime (hours)",
          "AdditiveMaterialCost ($/unit)"
         ],
         "y": [
          "DefectStatus",
          "ProductionVolume (units/day)",
          "ProductionCost ($/day)",
          "SupplierQuality (%)",
          "DeliveryDelay (days)",
          "DefectRate (defects/1000 units)",
          "QualityScore (%)",
          "MaintenanceHours (hours/week)",
          "DowntimePercentage (%)",
          "InventoryTurnover (ratio)",
          "StockoutRate (%)",
          "WorkerProductivity (%)",
          "SafetyIncidents (incidents/month)",
          "EnergyConsumption (kWh)",
          "EnergyEfficiency (ratio)",
          "AdditiveProcessTime (hours)",
          "AdditiveMaterialCost ($/unit)"
         ],
         "z": [
          [
           1,
           0.12897325211169305,
           0.026720440794394857,
           0.03818394916539817,
           0.005424640206577176,
           0.24574564599275256,
           -0.1992187311685954,
           0.29710678547488023,
           0.004128339856313495,
           0.006733112291045277,
           0.04057392370859189,
           -0.005224437399658046,
           -0.016038718923175144,
           0.005038920541792603,
           -0.03503076188134949,
           0.0056189314891216795,
           -0.0009525480271981962
          ],
          [
           0.12897325211169305,
           1,
           0.0295839652701133,
           -0.02655870411321218,
           0.01619300208664175,
           -0.019359969862065382,
           0.01782616516434049,
           -0.0045537883053447924,
           0.0199049171686631,
           0.006946721174349937,
           -0.0026372266752093185,
           0.004753612069922312,
           -0.024194839038429602,
           -0.010212789545181419,
           0.009923399954277047,
           -0.04239337371232184,
           -0.0029801305853748095
          ],
          [
           0.026720440794394857,
           0.0295839652701133,
           1,
           -0.02410341935933537,
           0.01736470138132251,
           0.01442831128475883,
           -0.0016026927839391067,
           0.007332534253142701,
           -0.0040784199141430605,
           0.022748643377162613,
           0.00600573480608397,
           0.005030168584550393,
           -0.006958027615619396,
           -0.0067277350179358025,
           -0.0027783280663812374,
           0.011075073983504291,
           -0.002114459562963776
          ],
          [
           0.03818394916539817,
           -0.02655870411321218,
           -0.02410341935933537,
           1,
           0.014233410851404804,
           0.012157099323774977,
           -0.029329554964489683,
           -0.01962564030142694,
           0.006297650520765415,
           0.018228091630378595,
           -0.0013926991684102704,
           -0.01738914362123544,
           0.004552261136937731,
           -0.003581586319901835,
           -0.01161359979379791,
           -0.012506589930948686,
           -0.0024299414619521694
          ],
          [
           0.005424640206577176,
           0.01619300208664175,
           0.01736470138132251,
           0.014233410851404804,
           1,
           -0.023023837677811583,
           0.017267614211751225,
           0.01814430096673997,
           0.046246649841646635,
           0.006685375516703528,
           -0.0027667606292879955,
           -0.01386850635668514,
           0.0060298164991871,
           0.007233154492060055,
           0.029467559837045205,
           0.028084665371657574,
           -0.007600669987884794
          ],
          [
           0.24574564599275256,
           -0.019359969862065382,
           0.01442831128475883,
           0.012157099323774977,
           -0.023023837677811583,
           1,
           -0.0363496050154533,
           -0.008686767456269097,
           -0.011207799225928858,
           -0.014147667345933035,
           0.007547135143346288,
           -0.00038755805369614994,
           0.012196208257796637,
           0.005297435225065022,
           -0.014168291882746169,
           -0.02842590441135356,
           0.011595658133714711
          ],
          [
           -0.1992187311685954,
           0.01782616516434049,
           -0.0016026927839391067,
           -0.029329554964489683,
           0.017267614211751225,
           -0.0363496050154533,
           1,
           -0.013365777305916031,
           -0.0005048629317422686,
           -0.0006177455805821178,
           -0.035048987302817004,
           0.004591162566047051,
           0.0012929018188209348,
           -0.0016938093062899152,
           -0.004146941253040783,
           0.009986003818456005,
           -0.02122258098595338
          ],
          [
           0.29710678547488023,
           -0.0045537883053447924,
           0.007332534253142701,
           -0.01962564030142694,
           0.01814430096673997,
           -0.008686767456269097,
           -0.013365777305916031,
           1,
           -0.020493817327743854,
           0.012757947205544792,
           0.019251282507740358,
           0.009621661547013903,
           0.009173761187097448,
           0.007016526891709394,
           -0.026486412413467133,
           -0.0018197380100783659,
           -0.000844540089571703
          ],
          [
           0.004128339856313495,
           0.0199049171686631,
           -0.0040784199141430605,
           0.006297650520765415,
           0.046246649841646635,
           -0.011207799225928858,
           -0.0005048629317422686,
           -0.020493817327743854,
           1,
           0.010176263361834753,
           0.0015779334225538618,
           -0.037814039648768914,
           0.0036731800590721763,
           0.003447297242498299,
           0.012884688869765758,
           -0.008030941313705988,
           0.002354587523792279
          ],
          [
           0.006733112291045277,
           0.006946721174349937,
           0.022748643377162613,
           0.018228091630378595,
           0.006685375516703528,
           -0.014147667345933035,
           -0.0006177455805821178,
           0.012757947205544792,
           0.010176263361834753,
           1,
           0.026002082255140037,
           0.0014686002416461916,
           -0.017555306065509306,
           0.026335930059368202,
           0.025029190731792442,
           0.019967432155694863,
           0.0001761488655359062
          ],
          [
           0.04057392370859189,
           -0.0026372266752093185,
           0.00600573480608397,
           -0.0013926991684102704,
           -0.0027667606292879955,
           0.007547135143346288,
           -0.035048987302817004,
           0.019251282507740358,
           0.0015779334225538618,
           0.026002082255140037,
           1,
           -0.03503414859511843,
           0.03172411224824932,
           -0.0006900498039160115,
           0.02585180734830786,
           0.0008703786648486902,
           -0.020563046779287174
          ],
          [
           -0.005224437399658046,
           0.004753612069922312,
           0.005030168584550393,
           -0.01738914362123544,
           -0.01386850635668514,
           -0.00038755805369614994,
           0.004591162566047051,
           0.009621661547013903,
           -0.037814039648768914,
           0.0014686002416461916,
           -0.03503414859511843,
           1,
           -0.0007665533515621317,
           0.014571443118048368,
           -0.020734075661626734,
           -0.009681542866320099,
           -0.01626937263555354
          ],
          [
           -0.016038718923175144,
           -0.024194839038429602,
           -0.006958027615619396,
           0.004552261136937731,
           0.0060298164991871,
           0.012196208257796637,
           0.0012929018188209348,
           0.009173761187097448,
           0.0036731800590721763,
           -0.017555306065509306,
           0.03172411224824932,
           -0.0007665533515621317,
           1,
           0.03532564648777642,
           -0.012416821319574535,
           0.01770975082524711,
           -0.014899369522435436
          ],
          [
           0.005038920541792603,
           -0.010212789545181419,
           -0.0067277350179358025,
           -0.003581586319901835,
           0.007233154492060055,
           0.005297435225065022,
           -0.0016938093062899152,
           0.007016526891709394,
           0.003447297242498299,
           0.026335930059368202,
           -0.0006900498039160115,
           0.014571443118048368,
           0.03532564648777642,
           1,
           -0.027379799465536717,
           -0.004861361740932531,
           0.024656609342564733
          ],
          [
           -0.03503076188134949,
           0.009923399954277047,
           -0.0027783280663812374,
           -0.01161359979379791,
           0.029467559837045205,
           -0.014168291882746169,
           -0.004146941253040783,
           -0.026486412413467133,
           0.012884688869765758,
           0.025029190731792442,
           0.02585180734830786,
           -0.020734075661626734,
           -0.012416821319574535,
           -0.027379799465536717,
           1,
           -0.018838819100255325,
           0.006232463816624839
          ],
          [
           0.0056189314891216795,
           -0.04239337371232184,
           0.011075073983504291,
           -0.012506589930948686,
           0.028084665371657574,
           -0.02842590441135356,
           0.009986003818456005,
           -0.0018197380100783659,
           -0.008030941313705988,
           0.019967432155694863,
           0.0008703786648486902,
           -0.009681542866320099,
           0.01770975082524711,
           -0.004861361740932531,
           -0.018838819100255325,
           1,
           0.012948447901461557
          ],
          [
           -0.0009525480271981962,
           -0.0029801305853748095,
           -0.002114459562963776,
           -0.0024299414619521694,
           -0.007600669987884794,
           0.011595658133714711,
           -0.02122258098595338,
           -0.000844540089571703,
           0.002354587523792279,
           0.0001761488655359062,
           -0.020563046779287174,
           -0.01626937263555354,
           -0.014899369522435436,
           0.024656609342564733,
           0.006232463816624839,
           0.012948447901461557,
           1
          ]
         ],
         "zmax": 1,
         "zmin": -1
        }
       ],
       "layout": {
        "height": 600,
        "template": {
         "data": {
          "bar": [
           {
            "error_x": {
             "color": "#2a3f5f"
            },
            "error_y": {
             "color": "#2a3f5f"
            },
            "marker": {
             "line": {
              "color": "#E5ECF6",
              "width": 0.5
             },
             "pattern": {
              "fillmode": "overlay",
              "size": 10,
              "solidity": 0.2
             }
            },
            "type": "bar"
           }
          ],
          "barpolar": [
           {
            "marker": {
             "line": {
              "color": "#E5ECF6",
              "width": 0.5
             },
             "pattern": {
              "fillmode": "overlay",
              "size": 10,
              "solidity": 0.2
             }
            },
            "type": "barpolar"
           }
          ],
          "carpet": [
           {
            "aaxis": {
             "endlinecolor": "#2a3f5f",
             "gridcolor": "white",
             "linecolor": "white",
             "minorgridcolor": "white",
             "startlinecolor": "#2a3f5f"
            },
            "baxis": {
             "endlinecolor": "#2a3f5f",
             "gridcolor": "white",
             "linecolor": "white",
             "minorgridcolor": "white",
             "startlinecolor": "#2a3f5f"
            },
            "type": "carpet"
           }
          ],
          "choropleth": [
           {
            "colorbar": {
             "outlinewidth": 0,
             "ticks": ""
            },
            "type": "choropleth"
           }
          ],
          "contour": [
           {
            "colorbar": {
             "outlinewidth": 0,
             "ticks": ""
            },
            "colorscale": [
             [
              0,
              "#0d0887"
             ],
             [
              0.1111111111111111,
              "#46039f"
             ],
             [
              0.2222222222222222,
              "#7201a8"
             ],
             [
              0.3333333333333333,
              "#9c179e"
             ],
             [
              0.4444444444444444,
              "#bd3786"
             ],
             [
              0.5555555555555556,
              "#d8576b"
             ],
             [
              0.6666666666666666,
              "#ed7953"
             ],
             [
              0.7777777777777778,
              "#fb9f3a"
             ],
             [
              0.8888888888888888,
              "#fdca26"
             ],
             [
              1,
              "#f0f921"
             ]
            ],
            "type": "contour"
           }
          ],
          "contourcarpet": [
           {
            "colorbar": {
             "outlinewidth": 0,
             "ticks": ""
            },
            "type": "contourcarpet"
           }
          ],
          "heatmap": [
           {
            "colorbar": {
             "outlinewidth": 0,
             "ticks": ""
            },
            "colorscale": [
             [
              0,
              "#0d0887"
             ],
             [
              0.1111111111111111,
              "#46039f"
             ],
             [
              0.2222222222222222,
              "#7201a8"
             ],
             [
              0.3333333333333333,
              "#9c179e"
             ],
             [
              0.4444444444444444,
              "#bd3786"
             ],
             [
              0.5555555555555556,
              "#d8576b"
             ],
             [
              0.6666666666666666,
              "#ed7953"
             ],
             [
              0.7777777777777778,
              "#fb9f3a"
             ],
             [
              0.8888888888888888,
              "#fdca26"
             ],
             [
              1,
              "#f0f921"
             ]
            ],
            "type": "heatmap"
           }
          ],
          "heatmapgl": [
           {
            "colorbar": {
             "outlinewidth": 0,
             "ticks": ""
            },
            "colorscale": [
             [
              0,
              "#0d0887"
             ],
             [
              0.1111111111111111,
              "#46039f"
             ],
             [
              0.2222222222222222,
              "#7201a8"
             ],
             [
              0.3333333333333333,
              "#9c179e"
             ],
             [
              0.4444444444444444,
              "#bd3786"
             ],
             [
              0.5555555555555556,
              "#d8576b"
             ],
             [
              0.6666666666666666,
              "#ed7953"
             ],
             [
              0.7777777777777778,
              "#fb9f3a"
             ],
             [
              0.8888888888888888,
              "#fdca26"
             ],
             [
              1,
              "#f0f921"
             ]
            ],
            "type": "heatmapgl"
           }
          ],
          "histogram": [
           {
            "marker": {
             "pattern": {
              "fillmode": "overlay",
              "size": 10,
              "solidity": 0.2
             }
            },
            "type": "histogram"
           }
          ],
          "histogram2d": [
           {
            "colorbar": {
             "outlinewidth": 0,
             "ticks": ""
            },
            "colorscale": [
             [
              0,
              "#0d0887"
             ],
             [
              0.1111111111111111,
              "#46039f"
             ],
             [
              0.2222222222222222,
              "#7201a8"
             ],
             [
              0.3333333333333333,
              "#9c179e"
             ],
             [
              0.4444444444444444,
              "#bd3786"
             ],
             [
              0.5555555555555556,
              "#d8576b"
             ],
             [
              0.6666666666666666,
              "#ed7953"
             ],
             [
              0.7777777777777778,
              "#fb9f3a"
             ],
             [
              0.8888888888888888,
              "#fdca26"
             ],
             [
              1,
              "#f0f921"
             ]
            ],
            "type": "histogram2d"
           }
          ],
          "histogram2dcontour": [
           {
            "colorbar": {
             "outlinewidth": 0,
             "ticks": ""
            },
            "colorscale": [
             [
              0,
              "#0d0887"
             ],
             [
              0.1111111111111111,
              "#46039f"
             ],
             [
              0.2222222222222222,
              "#7201a8"
             ],
             [
              0.3333333333333333,
              "#9c179e"
             ],
             [
              0.4444444444444444,
              "#bd3786"
             ],
             [
              0.5555555555555556,
              "#d8576b"
             ],
             [
              0.6666666666666666,
              "#ed7953"
             ],
             [
              0.7777777777777778,
              "#fb9f3a"
             ],
             [
              0.8888888888888888,
              "#fdca26"
             ],
             [
              1,
              "#f0f921"
             ]
            ],
            "type": "histogram2dcontour"
           }
          ],
          "mesh3d": [
           {
            "colorbar": {
             "outlinewidth": 0,
             "ticks": ""
            },
            "type": "mesh3d"
           }
          ],
          "parcoords": [
           {
            "line": {
             "colorbar": {
              "outlinewidth": 0,
              "ticks": ""
             }
            },
            "type": "parcoords"
           }
          ],
          "pie": [
           {
            "automargin": true,
            "type": "pie"
           }
          ],
          "scatter": [
           {
            "fillpattern": {
             "fillmode": "overlay",
             "size": 10,
             "solidity": 0.2
            },
            "type": "scatter"
           }
          ],
          "scatter3d": [
           {
            "line": {
             "colorbar": {
              "outlinewidth": 0,
              "ticks": ""
             }
            },
            "marker": {
             "colorbar": {
              "outlinewidth": 0,
              "ticks": ""
             }
            },
            "type": "scatter3d"
           }
          ],
          "scattercarpet": [
           {
            "marker": {
             "colorbar": {
              "outlinewidth": 0,
              "ticks": ""
             }
            },
            "type": "scattercarpet"
           }
          ],
          "scattergeo": [
           {
            "marker": {
             "colorbar": {
              "outlinewidth": 0,
              "ticks": ""
             }
            },
            "type": "scattergeo"
           }
          ],
          "scattergl": [
           {
            "marker": {
             "colorbar": {
              "outlinewidth": 0,
              "ticks": ""
             }
            },
            "type": "scattergl"
           }
          ],
          "scattermapbox": [
           {
            "marker": {
             "colorbar": {
              "outlinewidth": 0,
              "ticks": ""
             }
            },
            "type": "scattermapbox"
           }
          ],
          "scatterpolar": [
           {
            "marker": {
             "colorbar": {
              "outlinewidth": 0,
              "ticks": ""
             }
            },
            "type": "scatterpolar"
           }
          ],
          "scatterpolargl": [
           {
            "marker": {
             "colorbar": {
              "outlinewidth": 0,
              "ticks": ""
             }
            },
            "type": "scatterpolargl"
           }
          ],
          "scatterternary": [
           {
            "marker": {
             "colorbar": {
              "outlinewidth": 0,
              "ticks": ""
             }
            },
            "type": "scatterternary"
           }
          ],
          "surface": [
           {
            "colorbar": {
             "outlinewidth": 0,
             "ticks": ""
            },
            "colorscale": [
             [
              0,
              "#0d0887"
             ],
             [
              0.1111111111111111,
              "#46039f"
             ],
             [
              0.2222222222222222,
              "#7201a8"
             ],
             [
              0.3333333333333333,
              "#9c179e"
             ],
             [
              0.4444444444444444,
              "#bd3786"
             ],
             [
              0.5555555555555556,
              "#d8576b"
             ],
             [
              0.6666666666666666,
              "#ed7953"
             ],
             [
              0.7777777777777778,
              "#fb9f3a"
             ],
             [
              0.8888888888888888,
              "#fdca26"
             ],
             [
              1,
              "#f0f921"
             ]
            ],
            "type": "surface"
           }
          ],
          "table": [
           {
            "cells": {
             "fill": {
              "color": "#EBF0F8"
             },
             "line": {
              "color": "white"
             }
            },
            "header": {
             "fill": {
              "color": "#C8D4E3"
             },
             "line": {
              "color": "white"
             }
            },
            "type": "table"
           }
          ]
         },
         "layout": {
          "annotationdefaults": {
           "arrowcolor": "#2a3f5f",
           "arrowhead": 0,
           "arrowwidth": 1
          },
          "autotypenumbers": "strict",
          "coloraxis": {
           "colorbar": {
            "outlinewidth": 0,
            "ticks": ""
           }
          },
          "colorscale": {
           "diverging": [
            [
             0,
             "#8e0152"
            ],
            [
             0.1,
             "#c51b7d"
            ],
            [
             0.2,
             "#de77ae"
            ],
            [
             0.3,
             "#f1b6da"
            ],
            [
             0.4,
             "#fde0ef"
            ],
            [
             0.5,
             "#f7f7f7"
            ],
            [
             0.6,
             "#e6f5d0"
            ],
            [
             0.7,
             "#b8e186"
            ],
            [
             0.8,
             "#7fbc41"
            ],
            [
             0.9,
             "#4d9221"
            ],
            [
             1,
             "#276419"
            ]
           ],
           "sequential": [
            [
             0,
             "#0d0887"
            ],
            [
             0.1111111111111111,
             "#46039f"
            ],
            [
             0.2222222222222222,
             "#7201a8"
            ],
            [
             0.3333333333333333,
             "#9c179e"
            ],
            [
             0.4444444444444444,
             "#bd3786"
            ],
            [
             0.5555555555555556,
             "#d8576b"
            ],
            [
             0.6666666666666666,
             "#ed7953"
            ],
            [
             0.7777777777777778,
             "#fb9f3a"
            ],
            [
             0.8888888888888888,
             "#fdca26"
            ],
            [
             1,
             "#f0f921"
            ]
           ],
           "sequentialminus": [
            [
             0,
             "#0d0887"
            ],
            [
             0.1111111111111111,
             "#46039f"
            ],
            [
             0.2222222222222222,
             "#7201a8"
            ],
            [
             0.3333333333333333,
             "#9c179e"
            ],
            [
             0.4444444444444444,
             "#bd3786"
            ],
            [
             0.5555555555555556,
             "#d8576b"
            ],
            [
             0.6666666666666666,
             "#ed7953"
            ],
            [
             0.7777777777777778,
             "#fb9f3a"
            ],
            [
             0.8888888888888888,
             "#fdca26"
            ],
            [
             1,
             "#f0f921"
            ]
           ]
          },
          "colorway": [
           "#636efa",
           "#EF553B",
           "#00cc96",
           "#ab63fa",
           "#FFA15A",
           "#19d3f3",
           "#FF6692",
           "#B6E880",
           "#FF97FF",
           "#FECB52"
          ],
          "font": {
           "color": "#2a3f5f"
          },
          "geo": {
           "bgcolor": "white",
           "lakecolor": "white",
           "landcolor": "#E5ECF6",
           "showlakes": true,
           "showland": true,
           "subunitcolor": "white"
          },
          "hoverlabel": {
           "align": "left"
          },
          "hovermode": "closest",
          "mapbox": {
           "style": "light"
          },
          "paper_bgcolor": "white",
          "plot_bgcolor": "#E5ECF6",
          "polar": {
           "angularaxis": {
            "gridcolor": "white",
            "linecolor": "white",
            "ticks": ""
           },
           "bgcolor": "#E5ECF6",
           "radialaxis": {
            "gridcolor": "white",
            "linecolor": "white",
            "ticks": ""
           }
          },
          "scene": {
           "xaxis": {
            "backgroundcolor": "#E5ECF6",
            "gridcolor": "white",
            "gridwidth": 2,
            "linecolor": "white",
            "showbackground": true,
            "ticks": "",
            "zerolinecolor": "white"
           },
           "yaxis": {
            "backgroundcolor": "#E5ECF6",
            "gridcolor": "white",
            "gridwidth": 2,
            "linecolor": "white",
            "showbackground": true,
            "ticks": "",
            "zerolinecolor": "white"
           },
           "zaxis": {
            "backgroundcolor": "#E5ECF6",
            "gridcolor": "white",
            "gridwidth": 2,
            "linecolor": "white",
            "showbackground": true,
            "ticks": "",
            "zerolinecolor": "white"
           }
          },
          "shapedefaults": {
           "line": {
            "color": "#2a3f5f"
           }
          },
          "ternary": {
           "aaxis": {
            "gridcolor": "white",
            "linecolor": "white",
            "ticks": ""
           },
           "baxis": {
            "gridcolor": "white",
            "linecolor": "white",
            "ticks": ""
           },
           "bgcolor": "#E5ECF6",
           "caxis": {
            "gridcolor": "white",
            "linecolor": "white",
            "ticks": ""
           }
          },
          "title": {
           "x": 0.05
          },
          "xaxis": {
           "automargin": true,
           "gridcolor": "white",
           "linecolor": "white",
           "ticks": "",
           "title": {
            "standoff": 15
           },
           "zerolinecolor": "white",
           "zerolinewidth": 2
          },
          "yaxis": {
           "automargin": true,
           "gridcolor": "white",
           "linecolor": "white",
           "ticks": "",
           "title": {
            "standoff": 15
           },
           "zerolinecolor": "white",
           "zerolinewidth": 2
          }
         }
        },
        "title": {
         "font": {
          "size": 14
         },
         "text": "Correlation Matrix"
        },
        "width": 800,
        "xaxis": {
         "tickangle": -45,
         "title": {
          "font": {
           "size": 12
          },
          "text": "Variables"
         }
        },
        "yaxis": {
         "tickangle": -45,
         "title": {
          "font": {
           "size": 12
          },
          "text": "Variables"
         }
        }
       }
      }
     },
     "metadata": {},
     "output_type": "display_data"
    }
   ],
   "source": [
    "import plotly.graph_objects as go\n",
    "\n",
    "corr_matrix = df.corr()\n",
    "fig = go.Figure(data=go.Heatmap(\n",
    "    z=corr_matrix.values,\n",
    "    x=corr_matrix.columns,\n",
    "    y=corr_matrix.columns,\n",
    "    colorscale='Viridis',\n",
    "    colorbar=dict(title='Correlation Coefficient'),\n",
    "    zmin=-1,\n",
    "    zmax=1,\n",
    "    text=corr_matrix.values, \n",
    "    texttemplate='%{text:.2f}', \n",
    "    textfont=dict(size=10, color='white')\n",
    "))\n",
    "\n",
    "fig.update_layout(\n",
    "    title='Correlation Matrix',\n",
    "    xaxis_title='Variables',\n",
    "    yaxis_title='Variables',\n",
    "    xaxis=dict(tickangle=-45),\n",
    "    yaxis=dict(tickangle=-45),\n",
    "    xaxis_title_font=dict(size=12),\n",
    "    yaxis_title_font=dict(size=12),\n",
    "    title_font=dict(size=14),\n",
    "    width=800,  \n",
    "    height=600  \n",
    ")\n",
    "\n",
    "# Show the plot\n",
    "fig.show()"
   ]
  },
  {
   "cell_type": "code",
   "execution_count": 33,
   "metadata": {},
   "outputs": [
    {
     "data": {
      "image/png": "[encoded data removed]",
      "text/plain": [
       "<Figure size 640x480 with 1 Axes>"
      ]
     },
     "metadata": {},
     "output_type": "display_data"
    }
   ],
   "source": [
    "import seaborn as sns\n",
    "import matplotlib.pyplot as plt\n",
    "\n",
    "# Distribusi DefectStatus\n",
    "sns.countplot(x='DefectStatus', data=df)\n",
    "plt.title('Distribusi DefectStatus')\n",
    "plt.show()\n"
   ]
  },
  {
   "cell_type": "markdown",
   "metadata": {},
   "source": [
    "### PreProcessing"
   ]
  },
  {
   "cell_type": "code",
   "execution_count": 34,
   "metadata": {},
   "outputs": [],
   "source": [
    "from sklearn.model_selection import train_test_split\n",
    "from sklearn.preprocessing import StandardScaler\n",
    "\n",
    "X = df.drop('DefectStatus', axis=1)\n",
    "y = df['DefectStatus']\n",
    "\n",
    "X_train, X_test, y_train, y_test = train_test_split(X, y, test_size=0.2, random_state=42)\n",
    "\n",
    "scaler = StandardScaler()\n",
    "X_train_scaled = scaler.fit_transform(X_train)\n",
    "X_test_scaled = scaler.transform(X_test)\n"
   ]
  },
  {
   "cell_type": "markdown",
   "metadata": {},
   "source": [
    "### Modelling"
   ]
  },
  {
   "cell_type": "code",
   "execution_count": 35,
   "metadata": {},
   "outputs": [
    {
     "name": "stdout",
     "output_type": "stream",
     "text": [
      "Model: Logistic Regression\n",
      "Akurasi: 0.8765432098765432\n",
      "              precision    recall  f1-score   support\n",
      "\n",
      "           0       0.68      0.40      0.51       102\n",
      "           1       0.90      0.97      0.93       546\n",
      "\n",
      "    accuracy                           0.88       648\n",
      "   macro avg       0.79      0.68      0.72       648\n",
      "weighted avg       0.86      0.88      0.86       648\n",
      "\n",
      "--------------------------------------------------\n",
      "Model: Decision Tree\n",
      "Akurasi: 0.9012345679012346\n",
      "              precision    recall  f1-score   support\n",
      "\n",
      "           0       0.66      0.76      0.71       102\n",
      "           1       0.95      0.93      0.94       546\n",
      "\n",
      "    accuracy                           0.90       648\n",
      "   macro avg       0.81      0.85      0.82       648\n",
      "weighted avg       0.91      0.90      0.90       648\n",
      "\n",
      "--------------------------------------------------\n",
      "Model: Random Forest\n",
      "Akurasi: 0.9552469135802469\n",
      "              precision    recall  f1-score   support\n",
      "\n",
      "           0       0.93      0.77      0.84       102\n",
      "           1       0.96      0.99      0.97       546\n",
      "\n",
      "    accuracy                           0.96       648\n",
      "   macro avg       0.94      0.88      0.91       648\n",
      "weighted avg       0.95      0.96      0.95       648\n",
      "\n",
      "--------------------------------------------------\n",
      "Model: Gradient Boosting\n",
      "Akurasi: 0.9521604938271605\n",
      "              precision    recall  f1-score   support\n",
      "\n",
      "           0       0.92      0.76      0.83       102\n",
      "           1       0.96      0.99      0.97       546\n",
      "\n",
      "    accuracy                           0.95       648\n",
      "   macro avg       0.94      0.88      0.90       648\n",
      "weighted avg       0.95      0.95      0.95       648\n",
      "\n",
      "--------------------------------------------------\n",
      "Model: SVM\n",
      "Akurasi: 0.8996913580246914\n",
      "              precision    recall  f1-score   support\n",
      "\n",
      "           0       0.80      0.48      0.60       102\n",
      "           1       0.91      0.98      0.94       546\n",
      "\n",
      "    accuracy                           0.90       648\n",
      "   macro avg       0.86      0.73      0.77       648\n",
      "weighted avg       0.89      0.90      0.89       648\n",
      "\n",
      "--------------------------------------------------\n",
      "Model: K-NN\n",
      "Akurasi: 0.8811728395061729\n",
      "              precision    recall  f1-score   support\n",
      "\n",
      "           0       0.69      0.44      0.54       102\n",
      "           1       0.90      0.96      0.93       546\n",
      "\n",
      "    accuracy                           0.88       648\n",
      "   macro avg       0.80      0.70      0.74       648\n",
      "weighted avg       0.87      0.88      0.87       648\n",
      "\n",
      "--------------------------------------------------\n",
      "Model: Naive Bayes\n",
      "Akurasi: 0.9012345679012346\n",
      "              precision    recall  f1-score   support\n",
      "\n",
      "           0       0.83      0.47      0.60       102\n",
      "           1       0.91      0.98      0.94       546\n",
      "\n",
      "    accuracy                           0.90       648\n",
      "   macro avg       0.87      0.73      0.77       648\n",
      "weighted avg       0.90      0.90      0.89       648\n",
      "\n",
      "--------------------------------------------------\n"
     ]
    }
   ],
   "source": [
    "from sklearn.linear_model import LogisticRegression\n",
    "from sklearn.tree import DecisionTreeClassifier\n",
    "from sklearn.ensemble import RandomForestClassifier, GradientBoostingClassifier\n",
    "from sklearn.svm import SVC\n",
    "from sklearn.neighbors import KNeighborsClassifier\n",
    "from sklearn.naive_bayes import GaussianNB\n",
    "from sklearn.metrics import classification_report, accuracy_score\n",
    "\n",
    "models = {\n",
    "    \"Logistic Regression\": LogisticRegression(),\n",
    "    \"Decision Tree\": DecisionTreeClassifier(),\n",
    "    \"Random Forest\": RandomForestClassifier(),\n",
    "    \"Gradient Boosting\": GradientBoostingClassifier(),\n",
    "    \"SVM\": SVC(),\n",
    "    \"K-NN\": KNeighborsClassifier(),\n",
    "    \"Naive Bayes\": GaussianNB()\n",
    "}\n",
    "\n",
    "\n",
    "for name, model in models.items():\n",
    "    model.fit(X_train_scaled, y_train)\n",
    "    y_pred = model.predict(X_test_scaled)\n",
    "    print(f\"Model: {name}\")\n",
    "    print(f\"Akurasi: {accuracy_score(y_test, y_pred)}\")\n",
    "    print(classification_report(y_test, y_pred))\n",
    "    print(\"-\" * 50)\n"
   ]
  },
  {
   "cell_type": "markdown",
   "metadata": {},
   "source": [
    "### Tuning Parameter for RandomForest"
   ]
  },
  {
   "cell_type": "code",
   "execution_count": 36,
   "metadata": {},
   "outputs": [
    {
     "name": "stdout",
     "output_type": "stream",
     "text": [
      "Fitting 5 folds for each of 108 candidates, totalling 540 fits\n",
      "Best parameters: {'max_depth': None, 'min_samples_leaf': 1, 'min_samples_split': 5, 'n_estimators': 100}\n",
      "Best score: 0.9621926633487327\n"
     ]
    }
   ],
   "source": [
    "from sklearn.model_selection import GridSearchCV\n",
    "\n",
    "param_grid = {\n",
    "    'n_estimators': [100, 200, 300],\n",
    "    'max_depth': [None, 10, 20, 30],\n",
    "    'min_samples_split': [2, 5, 10],\n",
    "    'min_samples_leaf': [1, 2, 4]\n",
    "}\n",
    "\n",
    "grid_search = GridSearchCV(estimator=RandomForestClassifier(), param_grid=param_grid, cv=5, n_jobs=-1, verbose=2)\n",
    "grid_search.fit(X_train_scaled, y_train)\n",
    "\n",
    "print(f\"Best parameters: {grid_search.best_params_}\")\n",
    "print(f\"Best score: {grid_search.best_score_}\")\n"
   ]
  }
 ],
 "metadata": {
  "kernelspec": {
   "display_name": "Python 3",
   "language": "python",
   "name": "python3"
  },
  "language_info": {
   "codemirror_mode": {
    "name": "ipython",
    "version": 3
   },
   "file_extension": ".py",
   "mimetype": "text/x-python",
   "name": "python",
   "nbconvert_exporter": "python",
   "pygments_lexer": "ipython3",
   "version": "3.9.2"
  }
 },
 "nbformat": 4,
 "nbformat_minor": 2
}
